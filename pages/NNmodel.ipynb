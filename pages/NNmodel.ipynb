{
 "cells": [
  {
   "cell_type": "code",
   "execution_count": 2,
   "metadata": {},
   "outputs": [],
   "source": [
    "import pandas as pd\n",
    "import numpy as np\n",
    "import nltk"
   ]
  },
  {
   "cell_type": "code",
   "execution_count": 3,
   "metadata": {},
   "outputs": [
    {
     "name": "stdout",
     "output_type": "stream",
     "text": [
      "     class                                               text Unnamed: 2\n",
      "0      yes  What's the difference between the  iPhone X  a...        NaN\n",
      "1       no  @ siracusa  just listened to Hypercritical #16...        NaN\n",
      "2      yes  Same.  IPhone X  won't be bad   https:// twitt...        NaN\n",
      "4       no  “  iphone x  for £150” do i have dickhead writ...        NaN\n",
      "5      yes       This  iPhone X  still very sexy a year later        NaN\n",
      "7      yes  If not I'm using my kidney. Omo what is ferrar...        NaN\n",
      "8      yes                           iPhone X 's max for sale        NaN\n",
      "9       no  Someone once told me that.....\\n\\nBut I've nev...        NaN\n",
      "10     yes    screenshots from the  iphone x  look so clapped        NaN\n",
      "12     yes  Looks like u now use an  iPhone x \\nCan I have...        NaN\n",
      "17      no           Wtf  iPhone X  takes very long to charge        NaN\n",
      "18      no  Tecno Y3 or so had face unlock.\\nSamsung S3 or...        NaN\n",
      "21     yes  Thanks. I'm interested in the  IPhone X . I wa...        NaN\n",
      "22     yes  # Win  an #iPhone  X with Envirofone this Fest...        NaN\n",
      "27      no  Lololol everyone knows the  iPhoneX  was the o...        NaN\n",
      "28     yes  My mum got scammed $200 trying to buy an  iPho...        NaN\n",
      "31      no  iOS as a whole doesn't feel that polished for ...        NaN\n",
      "32     yes  I got a  iPhone X /10 for sale.\\n\\nIt's a 6 an...        NaN\n",
      "36     yes  IPhone X  \\nIPhone 6 regular y plus \\nIphone 7...        NaN\n",
      "37      no  I'm replying to this from a S9. Trust me when ...        NaN\n",
      "38      no                            Nope bell mts  iPhone X        NaN\n",
      "40     yes  To the unclaimed Euro millions winner in Skegn...        NaN\n",
      "45     yes  Bro this  iPhone X  camera quality better come...        NaN\n",
      "46      no  I would be onboard with this with one exceptio...        NaN\n",
      "52     yes  Bullshit! Apple Watch, AirPods, iPad Pro,  iPh...        NaN\n",
      "53     yes                    letter,thanks fucking  iPhone X        NaN\n",
      "55     yes  That's why it's and  iPhone X  or iPhone decad...        NaN\n",
      "56     yes                                for the  iPhone X !        NaN\n",
      "60     yes  Yeah, talking to my friend who's an AT&T manag...        NaN\n",
      "61     yes  10 Friday get here so I can get the  iPhone X ...        NaN\n",
      "...    ...                                                ...        ...\n",
      "1605    no  should a 12 yr old get an iwatch for christmas...        NaN\n",
      "1607    no  Yea I used to have the  X  and had a crazy amo...        NaN\n",
      "1614    no  I’m honestly still not over how  bad  the qual...        NaN\n",
      "1615    no  I’m really starting to  hate  this  iPhone   X...        NaN\n",
      "1616    no  Two kids come in wearing gucci clothes and the...        NaN\n",
      "1618    no  i  hate  the way screenshots look on an  iphon...        NaN\n",
      "1622    no  I have the  iPhone   X  and I  hate  it. The c...        NaN\n",
      "1624    no                       I'm not an  iphone  person..        NaN\n",
      "1625    no  They look so freaking  expensive  especially T...        NaN\n",
      "1630    no  I just went from an  iPhone   X  to an XR and ...        NaN\n",
      "1631    no  Let’s be honest.  iPhone   X  looks pretty  ba...        NaN\n",
      "1633   yes  Iphone   X  takes amazing pics and even blurs ...        NaN\n",
      "1635    no     I  hate  how sensitive the  IPhone   X  is....        NaN\n",
      "1639    no  iphones just keep getting uglier and uglier li...        NaN\n",
      "1651    no  i absolutely fucking  hate  this game. i'm abo...        NaN\n",
      "1652    no  you have an  iphone   x  i fucking  hate  you ...        NaN\n",
      "1653    no                    iPhone   X  - No Credit Checks!        NaN\n",
      "1654    no  I really  hate  the lack of a home button on t...        NaN\n",
      "1656    no  They're so  expensive  though I wanna cry like...        NaN\n",
      "1660   yes             i want an  iphone   x  now i feel  bad        NaN\n",
      "1661    no      iPhone   X  is not that  bad  (but the price)        NaN\n",
      "1663    no  I fucking  hate   IPhone   X ’s i screen shot ...        NaN\n",
      "1664    no  lol Samsung screens are  expensive . Made like...        NaN\n",
      "1673    no  I am just amazed at how much  iPhone   X  I se...        NaN\n",
      "1674    no  he looks like the  iphone   x  commercial. yes...        NaN\n",
      "1675    no  Ew  iPhone  7’s camera quality looks so trash ...        NaN\n",
      "1677    no  @ Apple  hey why does your brand new  expensiv...        NaN\n",
      "1678    no  Unpopular opinion: I  hate  the  iPhone   X  m...        NaN\n",
      "1681   yes               i want the  iphone   x  so  bad  :’(        NaN\n",
      "1682    no  can anyone explain to me why the incredibly  e...        NaN\n",
      "\n",
      "[903 rows x 3 columns]\n"
     ]
    }
   ],
   "source": [
    "def Extract (path):\n",
    "    fd= open(path,encoding=\"utf-8\", errors='replace')\n",
    "    df = pd.read_csv(fd)   \n",
    "    defined=df['class'] != (\"undefined\")\n",
    "    # #output dataframe without undeined\n",
    "    df2=df[defined]\n",
    "    defined1=df2['class'] !=\"Undefined\"\n",
    "    df4=df2[defined1]\n",
    "    #replace no PI with no\n",
    "    df3=df4.replace(\"No PI\",\"no\")\n",
    "    #replace PI with yes\n",
    "    final=df3.replace(\"PI\",\"yes\")\n",
    "    \n",
    "    replace_yes=final.replace(\"Yes\",\"yes\")\n",
    "    final_df= replace_yes.replace(\"No\",\"no\")\n",
    "    return final_df, df\n",
    "\n",
    "path='C:/Users/Prem/Desktop/Projects/FYP data/data/training.csv'\n",
    "final_df,df=Extract(path)\n",
    "# print(df['class'].value_counts())\n",
    "print(final_df)\n"
   ]
  },
  {
   "cell_type": "code",
   "execution_count": 4,
   "metadata": {},
   "outputs": [
    {
     "name": "stdout",
     "output_type": "stream",
     "text": [
      "          class                                               text Unnamed: 2\n",
      "3     undefined  Ive had the iphone 8 plus and  iphone x  and i...        NaN\n",
      "6     undefined  I need some new phone cases   #iphoneX  #phone...        NaN\n",
      "11    undefined  Jailbroke first time on 11.3.1 using MP! Great...        NaN\n",
      "13    undefined  Cactus Travel Mug \\n\\n  http:// etsy.me/2C8ZcS...        NaN\n",
      "14    undefined  # official  discount #code  oneplus 6t\\n\\n--> ...        NaN\n",
      "15    undefined  Ever since my Dad got his  iPhone X  he been a...        NaN\n",
      "16    undefined  Free  iPhone X  offer is a most imported offer...        NaN\n",
      "19    undefined  # Free  #iPhoneX  offer is a most imported off...        NaN\n",
      "20    undefined  Need a #wirelesscharger  for the #car  or you ...        NaN\n",
      "23    undefined  B is the  iphone X  aand P must be the Google ...        NaN\n",
      "24    undefined  Unique Wood Carved iPhone Case\\nNow with the s...        NaN\n",
      "25    undefined  27% OFF #sale  #coupon  #selfiestick  @amazon ...        NaN\n",
      "26    undefined  React Native &  iPhone X  #reactnative  #feedl...        NaN\n",
      "29    undefined  PopSockets Diamond Phone Grip    https://www. ...        NaN\n",
      "30    undefined  Only $2.39 -Green Adhesive Silicone Card Pouch...        NaN\n",
      "33    undefined  PopSockets Phone Grip Harry Potter Deathly Hal...        NaN\n",
      "34    undefined  # games_accessoriesLED  Digital USB Cable For ...        NaN\n",
      "35    undefined  @ PeelHQ  My peel  iPhoneX  case is expanding ...        NaN\n",
      "39    undefined  protector, tempered, glass, safety, touch, hig...        NaN\n",
      "41    undefined  Hey friends, I'm selling this \" iphone x  veri...        NaN\n",
      "42    undefined  I shot this picture today with my  iPhone X  a...        NaN\n",
      "43    undefined  Refurb OtterBox Pursuit Case for  iPhone X  fo...        NaN\n",
      "44    undefined  @ snapchatsupport  When will you be updating t...        NaN\n",
      "47    undefined                            the  iPhone X .2 Jaguar        NaN\n",
      "48    undefined  Seattle out of my bedroom window at 12:41, Nov...        NaN\n",
      "49    undefined  5d | 3d | Temper glass | Premium | edge to edg...        NaN\n",
      "50    undefined  Free  iPhone X  - Get Free iPhone - Apple iPho...        NaN\n",
      "51    undefined  iPhone x  software problem. Phone died two day...        NaN\n",
      "54    undefined  Three Points - Job Done   \\n\\n#acmilan   #ميلا...        NaN\n",
      "57    undefined          Selling my white  iPhone X  64GB $700 obo        NaN\n",
      "...         ...                                                ...        ...\n",
      "1636  undefined  @ ThreeUK  hi. Why is my reception soooooo  ba...        NaN\n",
      "1637  undefined  this girl told me that bringing a camera while...        NaN\n",
      "1638  undefined  So I went to Walmart (I  hate  Walmart and thi...        NaN\n",
      "1640  undefined  It’s not that  expensive . Maybe 100 bucks for...        NaN\n",
      "1641  undefined  i’m so  bad  with money... walked into the sto...        NaN\n",
      "1642  undefined        Anyone on here have an  iPhone   X  ? If so        NaN\n",
      "1643  undefined             Personnellement j’ai l’ iPhone   X            NaN\n",
      "1644  undefined                c’est vraiment pas fait pour moi ^^        NaN\n",
      "1645  undefined  Me too. As someone who often has 3  iPhone   X...        NaN\n",
      "1646  undefined  You know those relationships where the guy buy...        NaN\n",
      "1647  undefined  Only for know there is much Chance left to get...        NaN\n",
      "1648  undefined  I don't spend a lot of time using my work  iPh...        NaN\n",
      "1649  undefined  why tf is there a green tint on my  iPhone   X...        NaN\n",
      "1650  undefined  Not sure where you are going. Maybe you are lo...        NaN\n",
      "1655  undefined                 Hey FYI @tim_cook  if this is real        NaN\n",
      "1657  undefined          Pubs are just  boring  and dumb right now        NaN\n",
      "1658  undefined  19 Best  iPhone   X  Wallet Cases in 2019  htt...        NaN\n",
      "1659  undefined  The new Twitter lights out mode is almost  use...        NaN\n",
      "1662  undefined                                            idk why        NaN\n",
      "1665  undefined  Wow twitter dark mode looks  bad  ass on the  ...        NaN\n",
      "1666  undefined  Ce n’est pas tombé dans l’oreille d’une sourde...        NaN\n",
      "1667  undefined                          Dear people who  hate  me        NaN\n",
      "1668  undefined  Didn’t realise how ugly I was until I accident...        NaN\n",
      "1669  undefined  Too  bad  the early access crashes on the  iPh...        NaN\n",
      "1670  undefined  Pictures from the #P30  look next level. Makes...        NaN\n",
      "1671  undefined          Oh my  bad  lol it’s from the  iPhone   X        NaN\n",
      "1672  undefined  @ tim_cook  @Apple   iPhone   X  which is wate...        NaN\n",
      "1676  undefined  $150 Fake  iPhone   X  vs $1150  iPhone   X ! ...        NaN\n",
      "1679  undefined  Apple  iPhone   X  64GB Smartphone Space Gray ...        NaN\n",
      "1680  undefined  The  bad  thing of not having a  iPhone   X  i...        NaN\n",
      "\n",
      "[623 rows x 3 columns]\n"
     ]
    }
   ],
   "source": [
    "#create series of true and false. False is assigned for yes/no. True is for undefined\n",
    "undefined=df['class'] == \"undefined\" \n",
    "#output dataframe without undeined\n",
    "df_undefine=df[undefined]\n",
    "print(df_undefine)"
   ]
  },
  {
   "cell_type": "code",
   "execution_count": 5,
   "metadata": {},
   "outputs": [],
   "source": [
    "def text_concat():\n",
    "    text=\"\"\n",
    "    for x in final_df[\"text\"]:\n",
    "        text=text +str(x)\n",
    "    return text\n",
    "corpus=text_concat()"
   ]
  },
  {
   "cell_type": "code",
   "execution_count": 6,
   "metadata": {},
   "outputs": [],
   "source": [
    "import re\n",
    "from nltk.corpus import stopwords \n",
    "from nltk.tokenize import word_tokenize \n",
    "\n",
    "def removeStopWords(text):\n",
    "    stop_words = set(stopwords.words('english')) \n",
    "    word_tokens = word_tokenize(text) \n",
    "    filtered_sentence = [] \n",
    "    for w in word_tokens: \n",
    "        if w not in stop_words: \n",
    "            filtered_sentence.append(w.lower()) \n",
    "    #return list of corpus without stop words in a list.        \n",
    "    return filtered_sentence  \n",
    "\n",
    "def removePunc(eachText):\n",
    "    remove_punc = re.sub(r'[^\\w\\s]','',eachText)\n",
    "    #return corpus with out punctuation.\n",
    "    return remove_punc\n",
    "\n",
    "\n",
    "\n",
    "def clean_data(corpus):\n",
    "    remove_punc=removePunc(corpus)\n",
    "    li_remove_stopWords= removeStopWords(remove_punc)\n",
    "    return li_remove_stopWords\n",
    "\n",
    "li_cleaned_text = clean_data(corpus)\n",
    "# bprint(li_cleaned_text)"
   ]
  },
  {
   "cell_type": "code",
   "execution_count": 7,
   "metadata": {},
   "outputs": [
    {
     "name": "stdout",
     "output_type": "stream",
     "text": [
      "['ughhhits', 'refine', 'worksforme', 'im', 'a', 'gripe', 'vagaries', 'yahoocomnewsiphonex', 'badwant', 'rep', 'also', 'big', 'certainly', 'designsfuck', 'pictwittercomx1bnvnseqzso', 'level', 's928670046565515264', 'premium', 'like', 'flop', 'benton', 'llama', 'wrong', 'glad', 'considerfuck', 'follow', 'bansiphone', 'productsletterthanks', 'itwhen', 'wayvery', 'news', 'hey', 'attention', 'watch', 'limit', 'episode', 'searcher', 'gives', 'dislike', 'willing', 'lmaoo', 'twittercomming9_prstatu', 'casey', 'long', 'situation', 'constantlydaily', 'was', 'helpyea', 'lmao', 'product', 'switching', 'hearing', 'lil', 'cause', 'fund', 'did', '245', 'lost', 'pressing', 'smallcant', 'henrywood2142', 'roundmy', 'youre', 'xreally', 'tae', 'current', 'shipping', 'brings', 'repair', 'letter', 'lolget', 'decide', '100mph', 'mothers', 'comes', 'dad', '1200', 'itcouldnt', 'significant', 'deck', 'reviewi', 'online', 'item', 'monthly', 'advicing', 'â', 'youtubeit', 'unresponsiveso', 'wrongdamn', 'youtubedjeyzgq8anaa', 'ziegler', 'produce', 'december', 'tradingi', 'galaxy', 'twittercomrianjohnsonst', 'technologymy', '3310my', 'ohyoure', 'yea', 'hahahaha', 'fixed', 'amazed', 'business', 'ucstarfest', 'feature', 'find', 'confused', 'higher', 'plustbh', 'drove', 'character', 'devicetrying', '10gb', 'lose', 'n', 'exist', 'missed', 'ack', 'ferrari', 'stores', 'primary', 'future', 'okay', 'jesusi', 'pissed', 'glitch', 'contract', 'looked', 'pay', 'ray', 'phonei', 'butiphone', 'trouble', 'af', 'kill', 'en', 'hecho', 'knowwww', 'afeh', 'planet', 'signal', 'fix', 'adapting', 'goodi', 'old', 'pictwittercomuhpefph8yni', 's1068249266026614784', 'imma', 'yeri', 'plusi', 'chief', 'suxxexx', 'trashy', 'tapi', 'upgrading', 'prettyyall', 'prof', 'upis', 'jealous', 'specifically', 'logo', 'available', 'applehow', 'never', 'vouchercloudcomdid1988896r', '350', 'around', 'tim_cook', 'temptation', 'sickthe', 'leastthats', 'httpwww', 'worldi', 'outtta', '1k', 'doorstep', 'plagued', 'paywhy', 'dumbass', 'controversial', 'whoever', 'rite', 'narrower', 'contractlike', 'au', 'hahai', 'probably', 'uttar', 'pictwittercomxaedq2tu4nliterally', 'xi', 'seriouslydebt', 'assistive', 'archaic', 'iphonexthe', 'backimma', 'lightning', 'code', 'literally', 'fest', 'gamblewish', 'missing', 'irritating', 'loyalist', 'shiti', 'fan', 'since', 'suck', 'fansite', 'order', 'indonesia', 'opinion', 'time', 'outshining', 'flagships', 'movie', 'oled', 'true', 'genuinely', 'scroll', 'well', 'someone', 'hype', 'denied', 'giving', 'wowmy', '12', '7plus', 'ethandolan', 'inch', 'xthe', 'soon', 'piasa', 'shitomg', 'polished', 'please', 'are', 'durability', 'two', 'specs', 'freezing', 'text', 'honestly', 'brokebishhhall', 'colors', 'blazing', 'breaks', 'iwatch', '1password', 'animoji', 'early', 'wrng', '7', 'bitly2lywkme', 'mess', 'simple', 'anything', 'applesupportyou', 'way', 'am', 'checksi', '2000', 'percentage', 'me', 'holiday', 'travel', 'smart', '2so', '179', 'purposely', 'abba', 'off', 'iphone8', 'gets', 'scammersi', 'saw', 'class', 'http', 'insides', 'much', 'motivation', 'rid', 'dis', '129', 'mind', 'humblei', 'countdid', 'except', 'turn', 'drives', 'uki', 'pleasei', 'slow', 'grandma', 'belom', 'only', 'spensive', 'itim', 'christmas', 'customer', 'werent', 'aapl', 'badpengen', 'pradesh', 'note', 'dufresh4', 'droid', 'shattered', 'mehn', 'ugly', 'switch', 'kidney', 'needs', 'davidinglestvsaw', 'realise', 'stupid', 'who', 'yall', 'otterbox', 'honest', 'sugar', 'somehow', 'capability', 'ft', 'twittercomolajvdestatus', 'ainât', '24', 'streams', 'false', 'walked', 'razor', 'oversaturated', 'posting', 'to', 'everyone', 'facial', 'mum', 'three', 'timelol', 'winner', 'bifch', 'paper', 'dropped', 'sit', 'version', 'newer', 'fullestiphone', 'access', 'another', 'outside', 'asking', 'sir', 'gaming', 'galaxys', 'break', 'played', 'twittercomtyonna_mossst', 'thing', 'se', 'tho', 'ecosystem', 'marketing', 'isgod', '2309', 'went', 'interested', 'applenewsa5quuwcqrbun9', 'calls', 'pick', 'abroad', 'pictwittercomz5kosv72yemy', 'hahaneed', 'honestlythinking', 'naira', 'sullbee', 's8', 'nothingpraying', 'offangle', 'controlbesides', 'pro', 'thenyou', '4', 'mail', 'you', 'pictwittercomvupeg5nezxam', 'talli', 'steep', 'username', 'stuck', 'justified', 'damn', 'soonugh', 'izen', 'hotel', 's1114158786871054336', 'turned', 'mobile', 'car', 'spring', 'kinda', 'goodpeople', 'says', 'curryspcworld', 'simba', 'grown', 'badthe', 'pictwittercomcaxvppelvrive', 'trying', 'swiveling', 'center', 'jungkook', 'trust', 'swhen', 's3', 'preferred', 'facttheyre', 'itselflmaooo', 'web', 'surfaces', '9000âº', 'wishlist', 'sucksi', 'barley', 'pricei', 'post', 'request', 'costing', 'shop', 'cool', 'thats', 'disgustingi', 'scanning', 'allwayshey', 'their', 'should', '28771583723823104', 'youyes', 'hahaomg', 'adopted', 'upsomeone', 'reader', 'proi', 'thanks', 'clips', 'sometimes', 'awesome', 'iphonei', 'rajivmakhni', 'stop', 'food', 'sirhows', 'morningi', 'youtube9ca8zwjolfq', 'xiphone', 'itunes', 'ass', 'pictwittercomrueekshlb6lol', 'release', 'golden', 'heap', 'pricesactually', 'nervous', 'weather', 'fothe', 'gadget', 'physically', 'smhhi', 'lifei', '6sand', 'agli', 'google', 'written', 'mode', 'pictwittercom96fiwaw7kwbuy', 'replace', 'issues', 'unlocks', 'erfon', 'nownoooooooooo', 'pictwittercomckyos4jwuti', 'someoneyou', 'amma', '927002329819127808', 'wi', 'adjust', 'nothingto', 'coldmy', 'stunning', 'imei', 'range', 'kids', 'bad', 'manager', 'lower', 'xnice', 'lack', 'downgrade', 'wallet', 'ever', 'unlockedtryna', 'insane', 'been', 'spoken', 'needed', 'badstingeyness', 'pictwittercomgw5lvdvsdcso', '1500i', 's10', 'sign', 'fine', 'anaseini', 'finally', 'thatyour', 'display', 'handsso', 'pictwittercomw34iqif1tmthe', 'delivered', 'wanting', '8need', 'upgraded', 'facialrecognition', 'upshelp', 'check', 'itwas', 'bnow', '15', 'bug', 'temps', 'unresponsive', 'found', 'flat', 'pictwittercom9maes4iod2i', 'key', 'levels', 'xr', 'bud', 'freezewe', 'bro', 'mistake', 'tradein', 'diary', 'tried', 'mani', 'ill', 'youtube', 'bothers', 'guy', 'imac', 'darkwatch', 'accessible', 'kingi', 'include', 'and', 'india', 'invoke', 'historical', 'none', 'at', 'shitreduce', 'trash', 'throw', 'shot', 'doesnt', 'iphone', 'notice', 'pluse', 'doesnât', 'course', 'xd', 'agreei', 'eedaniphonexoranyotherexpensivene1820248464utm_mediumsharefromsiteutm_sourcefield_guide_twitter', 'recognizing', 'totally', 'prowant', 'homescreen', 'saadilamdin', 'mint', 'owned', 'move', 'enjoying', 'year', '1000', 'club', 'guess', 'qualityi', 'plans', 'chargetecno', 'thinking', 'lazy', 'rlly', 'return', 'annoy', 'itbabe', 'thumb', 'id', 'ios1111', 'facetime', 'really', 'censoring', 'i', 'freewould', 'pernah', 'twittercomtmobilestatus', 'lolso', 'methanks', 'chinsi', 'airpods', 'absorbed', 'trick', 'read', 'maroc_telecom', 'minssheâs', 'itiphone', 'opportunity', 'youtubedrveunle5noa', 'print', 'twittercombusinessinside', 'aggressively', 'of', 'used', '64gbawesome', 'acting', 'increasingly', 'star', 'bugs', 'inuse', 'crisis', 'picking', 'ohh', 'buy', 'ad', 'jumia', 'portacharger', 'designed', 'zstatus928770595763957760', 'phoneiphone', 'complaint', 'runs', 'yeah', '6s', 'harps', 'drawls', 'company', 'reduce', 'expensivegoing', 'pictwittercomvx6c3h7xdh', 'liked', 'lure', 'jony', 'twittercomnadeshotstatu', 'thread', 'promote', 'wth', 'hazratganj', '45', '100', 'freehold', 'israel', 'believe', 'soo', 'scratch', 'art', '64gb', 'ciaravinoecon', 'standard', 'socialism', 'main', '100000', 'garden', 'lmk', 'iphoneunboxing', 'heard', 'prontomore', 'switchingiphone', '8talking', 'twittercomvrnasty_statu', 'funny', 'greatest', 'morning', 'vs', 'alsougghhh', 'aux', 'hello', 'night', 'xthats', 'line', 'brush', 'eiiapplesupport', 'sleeker', 'youtubeymjm2r1svwma', 'boththese', 'pulling', 'sounattractive', 'saved', 'ratu', 'things', 'spend', 'cold', 'favourite', 'iphanboys', 'friend', 'billim', 'nothing', 'whatever', 'squared', 'orders', 'unlock', 'havini', 'cry', 'sale', 'lmaoooo', 'graysondolan', 'quality', 'akhirnya', '24k', 'investment', 'pictwittercomet8zq3tjtkbuy', 'most', 'little', 'does', 'camerajust', 'oledapple', 'xs', 'nowiphone', 'photographer', 'seen', 'baari', 'great', '64', 'bc', 'hon', 'omg', 'happens', 'technologyim', 'shitgotta', 'prices', 'itmight', 'pictwittercomegzhxaeljgomg', 'expected', 'relationshiplets', 'newest', 'tall', 'sound', 'reviewsso', 'kaitgirlosb', 'experiencei', 'corners', 'starting', '7s', 'finna', 'asapi', 'nah', 'making', 'cameras', 'instagramcompbbxanptje3i', 'rock', 'alreadylooks', 'makessense', 'supped', 'keep', 'feelyeah', 'bids', 'calendar', 'hours', 'pixel3', 'impossible', 'danggg', 'upgrade', 'rather', 'hate', 'shared', 'issue', 'video', 'photography', '75', 'fall', 'verizon', 'thathad', 'na', 'feels', 'content', 'ididnt', 'biggest', 'again', 'offthats', 'wot', '4gb', 'debating', 'guapo', 'david', '2015', 'andno', 'pictwittercompqhsf2wxc9should', 'thenjktrying', 'placed', 'jumbling', 'spinning', 'notsamsung', 'watchwhy', 'fieldguidegizmodocomwhyyoudontn', 'badthat', 'jet', 'sucking', 'lame', '1when', 'sadly', 'arent', 'increased', 'log', 'sensormy', 'thrown', 'good', 'look', 'listened', 'clearly', 'desaster', 'deals', 'cuts', 'attcaresonly', '12th', 'representative', 'protect', 'world', 'o2', 'millions', 'excuse', '10im', 'actually', 'win', 'ops', 'itll', 'apps', 'itits', 'phoneless', 'done', 'bros', 'best', 'able', 'poverty', 'aus', 'sure', '26', 'austinmann', 'reali', '420p', 'weeki', 'xthose', 'vudufans', 'xtrying', 'expensivei', 'either', 'network', '150', 'faceidi', 'activated', 'enabler', 'vouchercloud', 'knocki', 'pod', 'tatus1112040566194352128', 'ghosting', 'handed', 'roast', 'rts', 'authority', 'wouldve', 'layout', 'end', 'one', 'unless', 'colour', 'thousands', 'âtry', 'mad', 'fool', 'monthas', 'availability', 'experiences', 'jokes', 'sooooo', 'advantage', 'bravo', 'planning', 'could', 'pad', 'motive', 'flagship', 'sell', 'uk', 'headphone', 'exception', 'pray', 'pulled', 'fbme5jfadmlnr', 'will', 'drops', 'saydo', 'xdoes', 'scituate', 'seconds', 'redesign', 'xmannn', 'really2', 'think', 'allunpopular', 'ago', 'promised', 'model', 'useless', '2nd', 'tell', 'overall', 'fasthey', 'couple', 'prefer', '8before', 'thankssee', 'ten', '30iphone', 'sensthey', 'lmfaothe', 'foodforthoughtneed', 'dorostudylawinfo2017091611', 'skegness', 'anyone', 'outso', 'solid', 'youâre', 'joy', 'see', 'gigabit', 'selling', 'itdamn', 'iphonexoriphone8plus', 'shit', 'tabs', 'diehard', 'hot', 'justice', 'what', 'ones', 'oldim', 'system', 'googlyafuzy', 'yr', 'roverebaycomrover171153', 'replaced', 'tree', 'seems', 'clappedlooks', 'pissedi', 'nowthat', 'knew', 'after', 'ipadand', 'xdo', 'animojineeda', 'boringoh', 'sucks', 'choice', 'teeth', 'goes', 'htc', 'binance', 'forgotten', 'anythingthink', 'sugardaddy', 'possible', 'bucks', 'ps', 'snap', 'sensitive', 'executive', 'fucking', 'laptops', 'breaking', 'commercial', 'identify', 'different', 'dream', 'tax', 'linkedinim', 'same', 'swore', 'welcome', 'about', 'seeing', 'watchnot', 'using', 'chance', '10the', 'waitfew', 'theres', 'rolling', 'truly', 'yaall', 'else', 'consistently', 'reservation', 'between', 'pictwittercomnyweul06f8i', 'condition', 'forfinally', 'authorised', 'ssame', 'mkbhd', 'dick', 'gb', 'parents', 'people', 'actuallybuy', 'production', 'wild', 'selfie', 'concludes', 'so', 'bigger', 'phone', 'wont', 'experiencing', 'devices', 'pictwittercomwuotf54mipshould', 'retarded', 'playing', 'fools', 'pleasewish', 'moneyready', 'ab', 'enough', 'festive', 'glass', 'ima', 'discount', 'retweet', 'saidsprint', 'thisthat_tha3rd', 'lunch', 'charged', 'fact', 'fuck', 'breakableexpensiverepairevermade090829150htmltsrcfauxdal', 'finest', 'small', 'pics', 'pictwittercom8odmkuxsrkto', 'convince', 'whos', 'tomorrowim', 'pici', 'nov', 'macbooks', 'weirdthe', 'dust', 'choiceiphone', 'going', 'adulting', 'with', '280', 'somebody', 'telli', 'over', 'kid', 'god', 'kingseun3', 'would', 'instagramcompbbsvyonfboy', 'even', 'offense', 'ride', 'dndjjdthe', 'fun', 'badoh', 'ending', 'start', 'twittercomunboxtherapys', 'degrees', 'sorryhate', 'example', 'shirti', '3', 'nonsense', 'development', 'owe', 's928516416126496768', 'taskthis', 'showerdamn', 'living', 'ppl', 'helps', 'nerdwomanisme', 'sense', 'subsidized', 'wonder', 'ruining', 'felt', 'youtubeed3r9bzzlge', 'thingsyouneedtoknowabouttheiphonex', 'casa', 'super', 'want', 'roman', 'ahead', 'twittercomiwebstatus9', 'messing', 'anywhere', 'screwed', 'here', 'vulnerable', 'spent', 'baby', 'hahahait', 'misses', 'have', 'nominate', 'vbucks', 'laptop', 'thingi', 'seem', 'screens', '1724', 'iftttea8v8j', 'sampe', 'wired', 'wish', 'advertising', 'icon', 'cord', 'back', 'att', 'nowdo', 'chandlerperrer', 'something', 'happy', 'filling', 'animojis', 'massively', 'oneyou', 'whatsapp', 'goddd', '2', 'websiteiphone', 'hoping', 'say', 'resolution', 'p', 'salesomeone', 'keyboards', 'charging', 'aware', 'allow', 'sams', 'iphones', 'payments', 'uselessugh', 'attack', 'spoil', 'dayactually', 'than', 'lucknow', 'sim', 'transit', '928252802505367552', 'nowthink', 'priced', 'let', 'thothe', 'volume', 'iam_erica', 'prolly', 'especially', 'growing', 'size', 'store', 'iphoneshe', 'apple', 'loli', 'payment', 'taxation', 'reported', 'xim', 'information', 'helptested', 'savings', 'notification', 'make', 'need', 'rt', 'commercials', 'modern', 'girl', 'onboard', 'where', 'loliphone', 'europe', 'always', 'complain', 'no1', 'tracking', 'twittercomjimmymurrills', 'wayso', 'card', 'definitely', 'iphonex', 'square', 'iphonexeven', 'paintings', 'dryi', 'pictwittercomjrkrfq1nvxthe', 'birthday', 'thankswhen', 'bitly2hvp8cy', 'forever', 'toy', 'omgitsalia', 'paying', 'realisticallythe', '276', 'tv', 'grand', 'dey', 'popular', 'nowbruhh', 'c4etechtamil', 'materialmy', 'changed', 'within', 'tiene', 'sick', 'superior', 'fast', '6t', 'said', 'recognition', 'right', 'dualipajust', 'wearing', 'fingerprint', 'nicei', 'omo', 'smaller', 'had', 'purchased', 'biggeri', 'crummy', 'change', 'mingis', 'create', 'friends', 'refund', 'ministers', 'pictwittercomjixvit1k0swhy', 'dmd2010i', 'âi', 'monthsget', 'pictwittercomazbkwbuvwp', 'oooo', 'pricing', 'whateva', 'yrs', 'slide', 'luxurious', 'mom', 'nice', 'apart', '6yall', 'amount', 'or', 'experienced', 'absolutely', 'e8n96wyoq', 'officialimicca', 'might', 'jss', 'tutorials', 'estimates', 'slightly', 'huge', 'market', 'pictwittercomama02k5njci', 'that11', 'netflix', '8', 'mother', 'flawless', 'other', 'new', '7its', 'max4200', 'orderhow', 'absolute', 'show', 'software', 'call', 'your', 'ui', 'fair', 'andnskcoakdkslsi', 'niggas', 'years', 'screenshot', 'maybejust', 'awesomeme', 'dat', 'funds', 'scare', 'sr', 'losers', 'independent', 'xget', 'pix', 'thatshould', 'film', 'nowlmaoooo', 'sizehow', 'canât', 'bet', 'difference', 'spoiled', 'download', 'hardest', 'shouldnt', 'suffered', 'surprised', 'problem', 'cast', 'upset', 'contemplating', 'gear', 'xnot', 'twittercomsnazzyqstatus', 'usall', '34', 'samsungmobile', 'bens', 'flashlight', 'muchnot', 'games', 'boltonanion', 'app', 'wide', 'htlyjzup50fbcgr', 'accelerate', 'boring', 'youtube0ercfyjqhn0a', 'planner', 'someones', 'trap', 'eyes', 'that', 'https', 'communism', 'father', 'recevoir', 'looks', 'worse', 'macbook', 'futurei', 'launch', 'nonejust', 'grow', 'phonearenacomnewshereish', 'sister', 'attempt', 'wallpaper', 'may3', 'chains', 'trueok', '1sad', 'offered', 'generation', 'glitching', 's9', 'moneythis', 'ah', 'try', 'camerai', '25', 'xsweet', 'stay', 'real', 'headquarters', 'act', 'bari', 'lowkey', 'brand', '10', 'backwhy', '256gb', 'screenlooking', 'commuter', 'benefiti', 'havent', 'airtel', 'mon', 'customers', 'possibly', 'tm', 'omgi', 'nowsomething', 'tired', 'excruciatingly', 'grip', 'brother', 'heavenordered', 'hit', 'delivery', 'process', 'given', '20', 'top', 'pointthank', 'stunting', 'lmaomy', 'stoopid', 'sowhy', 'lovely', 'moment', '1068026546504548352', 'fml', 'succes', 'taken', 'room', 'experience', 'filed', 'deadass', 'combining', 'biased', 'showing', 'regular', 'saying', 'horrendous', 'language', 'entire', '300', 'compelling', 'crazy', 'olds', 'broke', 'do', 'almost', 'nothingwant', 'selfies', 'longest', 'lmaooo', '360i', 'thinks', 'youtubee6rmnflofe8a', '279', 'cheaper', 'youtube7ogyolyko6aa', 'shouldbuy', 'follower', 'satisfied', 'thisi', 'ggget', 'takes', '2150', 'listen', 'advent', 'clone', 'gift', 'hellllla', 'brightness', 'flight', 'efkj8m0aemiim4jh0x3cgyiq3d3dutm_sourcecompetitionutm_mediumreferralutm_campaigncompetition20sharing', 'audio', 'fuckin', 'apples', 'updating', 'confirm', 'expensive', 'daddy', 'minutes', 'itaargh', 'tbhi', 'powerful', 'isnt', 'quit', '14', 'running', 'andddddd', 'whole', 'although', 'nonissue', 'sooooooo', 'xmas', 'itid', 'work', 'longer', 'mts', 'reserve', 'a1901', 'plus', 'swear', 'tech', 'notified', 'extremely', 'sometimesi', 'whats', 'support', 'sooo', '72', 'twittercomtia_ewingstat', 'wonderful', 'manufacture', 'staff', 'wig', 'outi', 'ee', 'local', 'rubber', 'folk', 'not', 'via', 'onecan', 'streaming', 'twittercomgodsperfection', 'sexy', 'itmy', 'anybody', '9the', 'picture', 'this', 'wtfi', 'youtubeou89o_ppubya', 'photographers', 'taking', 'on', 'slower', 'first', 'telling', 'cracked', '1after', 'wedding', 'changing', 'eurotrip', 'firstif', 'alsoi', 'appledictation', 'de', 'thoughliterally', 'his', 'pictwittercomj5zkczudnilmao', 'sony', 'springs', 'appli', 'times', 'watching', 'peoples', 'autodisconnected', 'guessing', 'soul', 'wasnt', 'purchase', 'many', 'multiple', 'presenting', 'pictwittercomiqthus92dkthe', 'x', 'loyal', 'connected', 'annoying', 'breadcrumb', 'twittercomdsharp_runsst', 'reviewspathetic', 'obviously', 'preorder', 'spider', 'those', 'input', 'everythingi', 'giant', 'dollars', 'mashable', 'australiaget', 'charger', 'lifted', '38000', 'animojisfuck', 'others', '17we', 'ship', 'android', 'repeatedly', 'till', 'included', 'animojilife', 'jshsjs', 'headers', 'send', 'humble', 'disappointed', 'technology', 'lord', 'meso', 'series', 'nofilter', 'headphones', 'saliva', 'plan', 'strong', 'cracklingsound', 'close', 'socialmediamarketing', 'port', 'twins', 'theyre', 'wasted', 'bundle', 'twittercommaroc_telecom', 'shoved', 'receiving', 'week', 'high', 'match', 'itgood', 'tims', 'brandswow', 'enchantments', 'srorythe', 'wireless', 'started', 'youâd', '109', 'realize', 'getting', 'money', 'decade', 'piss', 'shifting', 'yet', 'mentioned', 'onto', 'jjtlove', 'person', 'maybe', 'products', 'b4', 'edition', 'how', 'incredibly', 'some', 'satisfaction', 'wan', 'okatt', 'named', 'smh', 'decided', 'we', 'happyapple', 'skyuki', 'unhappy', 'weeks', 'live', 'hold', 'dumb', 'prove', 'suckssss', 'thousand', 'called', 'muchmy', 'alreadywtf', '247', 'mean', 'gf', 'heart', 'daybreakasia', 'enoughgonna', 'freaking', 'servicebeen', 'tire', 'swapped', 'honda', 'screeni', 'trolls', 'lol', 'buddy', 'screenshots', 'coolall', 'ios11', 'friday', 'second', 'reaches', 'returned', 'least', 'they', 'girls', 'numerals', 'itâs', 'wouldnt', 'comparisons', 'owyoucangetafreeiphone864gbwhenyoubuyaniphonexatatt_id99708', '2001925501ff34pub5575041009toolid10001campid5337506718customidmprehttpwwwebaycomitmappleiphonexa1901256gbattbadimeinearmintcondition2309333151633331', 'thatll', 'already', 'side', 'emojis', 'tiniest', 'iris', 'job', 'horrible', 'bitly2z2qjv5', 'pushing', 'pictwittercomoc2lbvmdo1if', 'xafter', 'baddo', 'til', 'passwords', 'ugh', '926235033358155777', 'bout', 'made', 'rack', 'use', 'cave', 'now', 'brotheri', 'holding', 'control', '4500', 'convincing', 'phoneâs', 'creating', 'daughters', '545', 'tculpan', 'trade', 'wow', 'lot', '1', 'any', 'collective', 'replying', 'bitch', 'ur', 'home', 'everything', 'feign', 'owner', 'rich', 'thisat', 'plzi', 'stunt', 'understand', 'a5', 'oc', 'struggling', 'socialmedia', 'modeli', 'impulse', 'choicei', 'servicei', 'devicei', 'dont', 'pencil', 'wendy', 'usetempted', 'touch', 'cost', 'smartphones', 'ups', 'perfectly', 'isiphones', 'word', 'didnât', 'iâd', 'put', 'simular', 'motherfuckers', 'desperately', 'rnbuy', 'razer', 'annoyed', 'student', 'rangehonestly', 'talked', 'everythingmultiple', 'euro', 'data', 'accidental', 'killing', 'faceid', 'applesupport', '4k', 'la', 'ihnatko', 'the', 'as', 'ss', 'features', 'collectors', 'mall', 'didnt', 'pictwittercom3w0so5s3wnget', 'handson', 'xso', 'britney', 'dumpty', 'speed', 'problems', 'sorry', '256gbsince', '40k', 'brick', 'chinese', 'public', 'mine', 'paychecks', 'todolist', 'applecom', 'nyc', 'homergonzalez', 'today', 'freelove', 'site', 'companies', 'told', 'indiawas', 'congraz', 'man', 'gotten', 'serious', 'coming', 'lmaoim', 'hardly', 'picked', 'depth', 'bitly2i79hpw', 'f', 'deal', 'legit', 'bettertayabu', 'presents', 'play', 'usually', 'slimmer', 'dot', 'anymore', 'iphoneo', 'notchbad', 'supposed', 'xpraying', 'itnow', 'copied', 'xhow', 'perfect', 'deciding', 'prepped', 'takut', 'alexlindsay', 'magic', 'utterly', 'gon', 'personally', 'xwhen', 'thenewspocketcom20190412the', 'share', 'mixed', 'lots', 'mechanicwe', 'knowi', 'forget', 'dudeupdate', 'pictwittercomdlbbkairrri', 'trees', 'mps', 'w', 'shrek', 'anywaythe', 'ready', 'learning', 'allnew', 'meface', 'pictwittercom71pjcufytyi', 'phoneynwamy', 'genius', '950', 'cant', 'hai', 'breakable', 'causing', 'sitting', 'bei', 'extension', 'xsomeone', '4mbit', 'across', 'latestappleiphonecomshouldyoubuy', 'without', 'dying', 'luckman', 'green', 'petty', 'niis', 'came', 'flagshipsbullshit', 'srry', 'moms', 'snapchat', 'maxhello', 'photos', 'noticed', 'meltdown', 'cute', 'behind', 'ityall', 'r', '0macappsapplesclips20putsyouinthemillenniumfalconoramegadestroyerhtml', 'thoughlove', 'jailbreak', 'noticeablely', 'nephew', 'counterpartsi', 'lte', 'life', 'xlove', 'option', 'steve', 'everytime', 'featuresi', 'days', 'fantasy', 'polaroidyour', 'lilyhands', 'closed', 'massive', 'know', 'speaker', 'yesterday', 'decision', 'decent', 'receive', 'music', 'oneawesome', 'worth', 'still', '40', 'xpensive', 'add', 'plusevery', 'users', 'gizmodo', 'ifttt2hy1zot', 'brazil', 'xapple', 'gen', 'updated', 'kdbut', 'buyingi', '9', 'siracusa', 'upfront', 'seemed', 'ridiculously', 'working', 'cousin', 'hear', 'fantastic', 'apparently', 'reviewshow', 'boringembracing', 'meri', 'noted', 'no', 'ive', 'shoutout', 'gunna', 'badwe', 'copies', 'fbme1jd4s5mfc', 'dilemma', 'swiping', 'spending', 'feel', 'mommy', 'nose', 'dies', 'patiently', 'horizontal', 'place', 'dawggggcan', 'clear', 'boy', 'polaroid', 'phonehate', 'tf', 'iphone7', 'fresh', 'meonly', 'youll', 'idiot', 'ipad', 'notch', 'phoneim', 'far', 'due', 'velocity', 'assistance', 'severity', 'cameraso', 'white', 'driving', 'exited', 'nogot', '999', 'dec', 'oldest', 'requires', 'sounds', 'may', 'mask', '2017', 'shitty', 'wake', 'upi', 'prereleasethe', 'cabinet', 'better', 'nowi', 'a37with', 'why', 'pm', 'batches', 'technologies', 'nokia', 'is', 'landscape', '1063', 'appreciated', 's10e', 'america', 'odd', 'gimmicks', 'amazing', 'explain', 'evidence', 'buttt', 'xshould', 'four', 'sales', 'phones', 'sc', 'though', 'appeared', 'iphonexlololol', 'figure', 'pictwittercomdgwprazfrkrip', 'oneplus', 'agree', 'bf', 'lagging', 'versionpoor', 'allowed', 'os', '90', 'earlier', 'themiphone', '1rst', 'special', 'donât', 'adult', 'clean', 'freethe', 'instead', 'storesi', 'foldingi', 'eventuallyi', 'worst', 'yes', 'âœâ30', 'pictwittercome68xxa0qay', 'ordinary', 'onlyyyy', 'having', 'price', 'self', 'newscan', 'fanboys', 'xrxsxs', 'knows', 'idea', 'camera', 'vid', 'knowing', 'controls', 'humpty', 'onei', 'toook', 'applei', 'badiphone', 'wtf', 'air', 'restart', 'remove', 'qualityspeaker', 'turns', 'ownershipits', 'luck', 'cuz', 'hopenotouthow', 'badiâm', 'râ', 'anytime', 'youve', 'promises', 'gone', 'quite', 'personthey', 'appreciate', 'economical', 'wit', 'seei', 'build', 'zar', 'monthiphone', 'outits', 'alreadyi', 'later', 'carmy', 'pricetag', 'tipsi', 'pictwittercomh6anld8kpy', 'twittercommscolostatus', 'device', 'calling', 'tbh', 'day', 'upsetting', 'promise', '7finally', 'oneeeee', 'turning', 'incredible', 'soooo', 'proper', 'waterproofapples', 'brothers', 'innovation', 'guys', 'ucnews_india', 'smhits', 'loved', 'lifetime', 'pictwittercom3ech4wkrjcneed', 'carry', 'loss', 'easier', 'youtubepugnosocns8a', '78', 'resort', 'status930437339305971712', 'parts', 'design', 'itwish', 'stuff', 'evr', 'afford', 'iphonerepairchargesareexcruciatinglyexpensive', 'facechange', 'if', 'banksy', 'monthswish', 'love', 'jesus', 'estimated', 'stories', 'smthnnice', 'save', 'comparison', 'dinrcgot', 'meiphone', 'nigga', 'ios', 'meanonly', 'looking', 'youtubeno', 'go', 'hondainamerica', 'systemiphone', 'charge', 'casinothe', 'nhs', 'next', 'iosblack', 'xlet', 'twittercomafuaasamstatu', 'fooling', 'treesi', 'somethingonly', 'randomly', 'free', 'zoellas', 'likely', 'lee', 'itapple', 'blew', 'checked', 'too', 'iti', 'slowing', 'black', 'january', '8plus', 'took', 'clothes', 'tus926660732162154496', 'single', 'uglier', 'bottom', 'complaining', 'xwait', 'woman', 'cook', 'screenshotted', 'models', '2020wowi', 'meant', 'piezoelectric', 'androids', 'ibooks', 'thxyeah', 'avatars', 'videos', 'collapse', 'iâm', 'ifttt2m9qbda', 'title', 'deb', 'hypercritical', 'quick', 'lags', 'pictures', '256', 'samsung', 'become', 'hands', 'signed', 'canceled', '105', 'bank', 'ughhhgonna', 'pros', 'y3', 'improvementscrazy', 'when', '8s', 'releasealhamdulillah', 'tim', 'ordering', 'managed', 'greatkid', 'hard', 'month', 'introduce', 'prayersof', 'refuse', 'bust', '10yearold', 'dm', 'srrytwo', 'blesshttp', 'color', 'thoughcant', 'processor', 'acknowledge', 'jasonnash', 'per', 'floor', 'all', '402i', 'flipitgwznhh', 'scheme', 'pride', 'plusim', 'twelve', 'accuracy', 'talking', 'confident', 'school', 'meam', 'airplane', 'program', 'tryna', 'reallyyyyy', 'basurathe', 'which', 'picsyeah', '89999', 'u', 'xyou', 'hopefully', 'starbucks', 'fucked', 'cap', 'macstadium', 'riverdalei', 'cpwtweets', 'shitif', 'however', 'yearsi', 'ta', 'ittim', 'unintentionally', 'couldnt', 'craigslistlooked', 'nobody', 'following', 'late', 'tmobile', 'tiny', 'come', 'consideration', 'emergency', 'red', 'paye', 'image', 'resist', 'hope', 'methis', 'face', 'cut', 'phoneits', 'xmakes', 'charges', 'pretty', 'gadgets', 'looksame', 'joeygraceffa', 'sample', 'bugged', 'ask', 'list', 'excited', 'waiting', 'space', 'leavinglike', 'my', 'developers', 'bruv', 'months', 'less', 'last', 'flip', 'means', 'lcd', 'irl', 'outdatedthis', 'backgrounds', 'easy', 'buyer', 'terms', 'thati', 'portrait', 'isumm', 'just', '3d', '540', 'bit', 'replacinglove', 'spoofing', 'clickbaity', 'funi', 'loves', 'bullshit', 'cancel', 'youtubenpt5tsd0bbi', 'walking', 'thoughiphone', 'us816613182479466496', '256prolly', 'screenyall', 'putting', 'seriously', 'help', 'background', 'original', 'justify', 'method', 'sudden', 'unwanted', 'freezes', 'oh', '5', 'pictwittercomgu7wn22niai', 'account', 'idthinkin', '90k', 'slash', '6', 'needless', 'computersi', 'envirofone', 'qualityget', 'foreheads', 'ditching', 'instai', 'pocket', 'rudely', 'update', 'rest', 'bell', 'die', 'zoella', 'apple_com', '68', 'radial', '10yearolds', 'firstworldproblemshate', 'plusonly', 'biscuit', 'badi', 'brokeok', 'pluswhen', 'february', 'leedle', 'outright', 'tweet', 'aint', 'hi', 'summary', 'chances', 'hotspot', 'tomorrow', 'xto', 'colombia', 'churros', 'ting', 'along', 'canon', 'booked', 'wanted', 'ticket', 'popping', 'cited', 'poor', 'ggive', 'remember', 'piece', 'scammed', 'broken', 'near', 'paid', 'blacked', 'ridiculous', 'owns', 'lion', 'computer', 'patronize', 'credit', 'jack', 'improving', 'faster', 'xits', 'buttonmy', 'fckn', 'portion', 'bring', 'us', 'away', 'dive', '4th', 'gave', 'game', 'released', 'expensivewould', 'considering', 'dimensions', 'towow', 'makes', 'âs', 'keyboard', 'ifttt2ynoaib', 'test', 'sprint', 'encourage', 'review', 'nobrainer', 'care', 'bought', 'forward', 'get', 'highest', 'pictwittercomzhgomp7sr3iphone', 'fit', 'evolve', 'atus928712958519201792', 'apartment', 'baseveryone', 'basically', 'van', 'offer', 'temporarily', 'gamechanging', 'held', 'leastits', 'itworst', 'wife', 'shittyi', 'somethingall', 'emoji', 'questionable', 'pto', 'pls', 'its', 'thought', 'wack', 'because', 'unclaimed', 'daymaybe', 'login', 'stock', 'reason', 'recommended', 'exchange', 'worked', 'dontti', '152', 'howto', 'atus928349765582118912', 'wasso', 'socialmediastrategisti', 'whether', 'max', 'garyvee', 'screen', 'tatus927373826777931776', 'organs', '0decisions', 'ends', 'screaming', 'front', 'xscrew', 'hand', 'downloaded', 'everythinghey', 'fisrt', 'storewish', 'including', 'funding', 'surprise', 'ifttt2hnqh9i', '256g', 'competitors', 'idk', 'it', 'bestyup', 'morons', 'onlyinafrica', 'rstatus930155971191681026', 'op', 'uc', 'everythingdamn', 'poop', 'dickhead', 'dinner', 'ok', '23', 'beautiful', 'button', 'service', '16', 'annoyingi', 'macworldcomarticle323667', 'swipe', 'failsi', 'ex', 'he', 'low', 'radio', 'deliver', 'falling', 'but', '200', 'bcs', 'atus928766636563185664', 'seun', 'georgia', 'recognize', '256gbiphone', 'everybody', 'more', 'bas', 'buggati', '13', 'dollar', '11', '30mbit', 'pake', 'asap', 'ordered', 'cs', 'lgv10', 'beli', 'lessons', 'retort', 'pushed', 'quicker', 'ngl', 'latest', 'criminal', 'uses', 'edit', 'plzthe', 'were', 'shower', 'explanation', 'feeling', 'nothin', 'half', 'doubts', '400k', 'themi', 'toohate', 'extra', 'kind', 'lulu', 'rejoin', 'ashleybeauty43', 'concerns', '128gb', 'got', 'articles', 'matter', '13333', 'a130pm', 'sundar', 'buying', 'fecesi', 'fail', 'eitherios', 'goodgot', 'drop', 'johnlegere', 'sync', 'battery', 'older', 'in', 'scans', 'utter', 'beat', 'messaging', 'cultcast', 'take', 'bonkers', 'pixel', 'reviews', 'mbad', 'label', 'sorta', 'purpose', 'strongly', 'for', 'screensi', 'busting', 'youtubekrac4mh_nw8a', 'iâve', '7pm', 'needmy', 'terrible', 'unlimited', 'these', 'gold', 'x5', 'usesnope', 'arrive', 'recently', '1010', 'xokay', 'x2day', '3t', 'season', 'iphonexso', 'alreadywhen', 'thingim', 'plusin', 'from', 'works', 'prepared', 'fanboy', 'set', '99cents', 'an', 'number', 'reply', 'every', 'waste', '500', 'gooooodi', 'blurs', 'hippys', 'give', 'hell', 'loans', 'lie', 'pic', 'spends', 'employer', 'wait', 'xmasi', 'httpswww', 'rn', 'bar', 'cases', '30', 'australiareturned', '9yo', 'hes', 'ew', 'tweaking', 'davidinglestviphone', 'hang', 'can', 'goodthat', 'event', 'important', 'twice', '89', 'hellomotoi', 'shotoniphone', 'twittercommanxomemiasta', 'lgv20', 'chez', 'chose', 'trynna', 'full', 'relate', 'laterif', 'arrives', 'pictwittercoml5enx6gjj9get', 'gucci', 'twitter', 'pictwittercomiayz2yxnzaim', 'iphonexmy', '17', 'camerahow', 'ground']\n"
     ]
    }
   ],
   "source": [
    "def make_unique_li(li_cleanText):\n",
    "    unique_words_set= set(li_cleanText)\n",
    "    unique_word_li = list(unique_words_set)\n",
    "    return unique_word_li\n",
    "\n",
    "\n",
    "def stemmed(li_cleanText):\n",
    "    count_stemed=0\n",
    "    for word in li_cleanText:\n",
    "        if word[-1]==\"s\":\n",
    "            li_cleanText[count_stemed]=word[:-1]\n",
    "        elif word[-2:]==\"ed\":\n",
    "            li_cleanText[count_stemed]=word[:-2]\n",
    "        elif word[-3:]==\"ing\":\n",
    "            li_cleanText[count_stemed]=word[:-3]\n",
    "        count_stemed+=1  \n",
    "    return li_cleanText   \n",
    "# li_stemmed = stemmed(li_cleaned_text)\n",
    "uniqueWords = make_unique_li(li_cleaned_text)\n",
    "print(uniqueWords)"
   ]
  },
  {
   "cell_type": "code",
   "execution_count": 8,
   "metadata": {},
   "outputs": [],
   "source": [
    "def Bag():\n",
    "    textList = []\n",
    "    for doc in final_df['text']:\n",
    "        words = doc.split()\n",
    "        tempWordList = []\n",
    "        isThere = False\n",
    "        for selectWord in uniqueWords:\n",
    "            for word in words:\n",
    "                if selectWord == word.lower():\n",
    "                    isThere = True\n",
    "                    break\n",
    "            \n",
    "            if(isThere == True):\n",
    "                tempWordList.append(1)\n",
    "            else:\n",
    "                tempWordList.append(0)\n",
    "        textList.append(tempWordList)\n",
    "    return textList\n",
    "\n",
    "def dataReadyForModel():\n",
    "    X = Bag()\n",
    "    Y = []\n",
    "    for i in final_df['class']:\n",
    "        if i == 'yes':\n",
    "            Y.append(1)\n",
    "        else:\n",
    "            Y.append(0)\n",
    "    \n",
    "    return (X,Y)\n",
    "\n",
    "X_train, Y_train = dataReadyForModel()    \n",
    "\n"
   ]
  },
  {
   "cell_type": "code",
   "execution_count": 9,
   "metadata": {},
   "outputs": [
    {
     "data": {
      "text/plain": [
       "(903,)"
      ]
     },
     "execution_count": 9,
     "metadata": {},
     "output_type": "execute_result"
    }
   ],
   "source": [
    "X_train, Y_train = dataReadyForModel() \n",
    "xNp = np.array(X_train)\n",
    "yNp = np.array(Y_train)\n",
    "yNp.shape"
   ]
  },
  {
   "cell_type": "code",
   "execution_count": 10,
   "metadata": {},
   "outputs": [],
   "source": [
    "import tensorflow as tf\n",
    "from tensorflow.keras import layers"
   ]
  },
  {
   "cell_type": "code",
   "execution_count": 11,
   "metadata": {},
   "outputs": [],
   "source": [
    "model = tf.keras.Sequential()\n",
    "# Adds a densely-connected layer with 64 units to the model:\n",
    "model.add(layers.Dense(64, activation='relu'))\n",
    "# Add another:\n",
    "model.add(layers.Dense(64, activation='relu'))\n",
    "# Add a softmax layer with 10 output units:\n",
    "model.add(layers.Dense(2, activation='softmax'))\n",
    "\n",
    "model.compile(optimizer='adam',\n",
    "              loss='sparse_categorical_crossentropy',\n",
    "              metrics=['accuracy'])\n"
   ]
  },
  {
   "cell_type": "code",
   "execution_count": 12,
   "metadata": {},
   "outputs": [
    {
     "name": "stdout",
     "output_type": "stream",
     "text": [
      "Train on 903 samples\n",
      "Epoch 1/10\n",
      "903/903 [==============================] - 5s 5ms/sample - loss: 0.8392 - accuracy: 0.5493\n",
      "Epoch 2/10\n",
      "903/903 [==============================] - 0s 317us/sample - loss: 0.7040 - accuracy: 0.5648\n",
      "Epoch 3/10\n",
      "903/903 [==============================] - 0s 264us/sample - loss: 0.6898 - accuracy: 0.5914\n",
      "Epoch 4/10\n",
      "903/903 [==============================] - 0s 289us/sample - loss: 0.6699 - accuracy: 0.6157\n",
      "Epoch 5/10\n",
      "903/903 [==============================] - 0s 245us/sample - loss: 0.6689 - accuracy: 0.6157\n",
      "Epoch 6/10\n",
      "903/903 [==============================] - 0s 353us/sample - loss: 0.6734 - accuracy: 0.6157\n",
      "Epoch 7/10\n",
      "903/903 [==============================] - 0s 355us/sample - loss: 0.6723 - accuracy: 0.6157\n",
      "Epoch 8/10\n",
      "903/903 [==============================] - 1s 779us/sample - loss: 0.6685 - accuracy: 0.6157\n",
      "Epoch 9/10\n",
      "903/903 [==============================] - 0s 329us/sample - loss: 0.6695 - accuracy: 0.6157\n",
      "Epoch 10/10\n",
      "903/903 [==============================] - 1s 608us/sample - loss: 0.6667 - accuracy: 0.6157\n"
     ]
    },
    {
     "data": {
      "text/plain": [
       "<tensorflow.python.keras.callbacks.History at 0x1591e62f978>"
      ]
     },
     "execution_count": 12,
     "metadata": {},
     "output_type": "execute_result"
    }
   ],
   "source": [
    "model.fit(xNp, yNp, epochs=10)"
   ]
  },
  {
   "cell_type": "code",
   "execution_count": null,
   "metadata": {},
   "outputs": [],
   "source": []
  },
  {
   "cell_type": "code",
   "execution_count": null,
   "metadata": {},
   "outputs": [],
   "source": []
  }
 ],
 "metadata": {
  "kernelspec": {
   "display_name": "Python 3",
   "language": "python",
   "name": "python3"
  },
  "language_info": {
   "codemirror_mode": {
    "name": "ipython",
    "version": 3
   },
   "file_extension": ".py",
   "mimetype": "text/x-python",
   "name": "python",
   "nbconvert_exporter": "python",
   "pygments_lexer": "ipython3",
   "version": "3.7.3"
  }
 },
 "nbformat": 4,
 "nbformat_minor": 2
}
