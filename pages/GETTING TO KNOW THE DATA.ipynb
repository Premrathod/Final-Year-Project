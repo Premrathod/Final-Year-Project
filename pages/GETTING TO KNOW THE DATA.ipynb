{
 "cells": [
  {
   "cell_type": "code",
   "execution_count": 2,
   "metadata": {},
   "outputs": [
    {
     "data": {
      "text/html": [
       "<div>\n",
       "<style scoped>\n",
       "    .dataframe tbody tr th:only-of-type {\n",
       "        vertical-align: middle;\n",
       "    }\n",
       "\n",
       "    .dataframe tbody tr th {\n",
       "        vertical-align: top;\n",
       "    }\n",
       "\n",
       "    .dataframe thead th {\n",
       "        text-align: right;\n",
       "    }\n",
       "</style>\n",
       "<table border=\"1\" class=\"dataframe\">\n",
       "  <thead>\n",
       "    <tr style=\"text-align: right;\">\n",
       "      <th></th>\n",
       "      <th>class</th>\n",
       "      <th>text</th>\n",
       "    </tr>\n",
       "  </thead>\n",
       "  <tbody>\n",
       "    <tr>\n",
       "      <th>0</th>\n",
       "      <td>no</td>\n",
       "      <td>i'll  buy  the  iphone   x  if it can  get  ac...</td>\n",
       "    </tr>\n",
       "    <tr>\n",
       "      <th>1</th>\n",
       "      <td>no</td>\n",
       "      <td>Some dude in FB selling the  iPhone   X  64 gb...</td>\n",
       "    </tr>\n",
       "    <tr>\n",
       "      <th>2</th>\n",
       "      <td>yes</td>\n",
       "      <td>Home dab emote man today and I  get  hopped on...</td>\n",
       "    </tr>\n",
       "    <tr>\n",
       "      <th>3</th>\n",
       "      <td>yes</td>\n",
       "      <td>Buy  an  iPhone   X</td>\n",
       "    </tr>\n",
       "    <tr>\n",
       "      <th>4</th>\n",
       "      <td>no</td>\n",
       "      <td>I hate iOS 11. My  iPhone  6+ works 10X slower...</td>\n",
       "    </tr>\n",
       "  </tbody>\n",
       "</table>\n",
       "</div>"
      ],
      "text/plain": [
       "  class                                               text\n",
       "0    no  i'll  buy  the  iphone   x  if it can  get  ac...\n",
       "1    no  Some dude in FB selling the  iPhone   X  64 gb...\n",
       "2   yes  Home dab emote man today and I  get  hopped on...\n",
       "3   yes                               Buy  an  iPhone   X \n",
       "4    no  I hate iOS 11. My  iPhone  6+ works 10X slower..."
      ]
     },
     "execution_count": 2,
     "metadata": {},
     "output_type": "execute_result"
    }
   ],
   "source": [
    "import pandas as pd\n",
    "import numpy as np\n",
    "\n",
    "import matplotlib.pyplot as plt\n",
    "%matplotlib inline\n",
    "import pathConfig as pc  # path config file imported\n",
    "path = pc.PATH_CONFIG['pathData']\n",
    "\n",
    "\n",
    "path = \"C:/Users/Prem/Desktop/Projects/Final Year Project/uploadeddata/AnnotatedData3.csv\" #ubunutu/linux\n",
    "\n",
    "\n",
    "#path = \"..\\data\\AnnotatedData3.csv\"\n",
    "\n",
    "def extract (path):\n",
    "    fd= open(path,encoding=\"utf-8\", errors='replace')\n",
    "    df = pd.read_csv(fd)   \n",
    "    defined=df['class'] != (\"undefined\")\n",
    "    # #output dataframe without undeined\n",
    "    df2=df[defined]\n",
    "    defined1=df2['class'] !=\"Undefined\"\n",
    "    df4=df2[defined1]\n",
    "    #replace no PI with no\n",
    "    df3=df4.replace(\"No PI\",\"no\")\n",
    "    #replace PI with yes\n",
    "    final=df3.replace(\"PI\",\"yes\")\n",
    "    \n",
    "    replace_yes=final.replace(\"Yes\",\"yes\")\n",
    "    final_df= replace_yes.replace(\"No\",\"no\")\n",
    "    return final_df, df\n",
    "\n",
    "final_data_frame, data_frame_undefined = extract(path)\n",
    "\n",
    "final_data_frame.head()"
   ]
  },
  {
   "cell_type": "code",
   "execution_count": 3,
   "metadata": {},
   "outputs": [
    {
     "name": "stdout",
     "output_type": "stream",
     "text": [
      "yes    684\n",
      "no     324\n",
      "Name: class, dtype: int64\n"
     ]
    },
    {
     "data": {
      "text/plain": [
       "Text(0.5, 1.0, 'Count of Intention')"
      ]
     },
     "execution_count": 3,
     "metadata": {},
     "output_type": "execute_result"
    },
    {
     "data": {
      "image/png": "[encoded data removed]",
      "text/plain": [
       "<Figure size 432x288 with 1 Axes>"
      ]
     },
     "metadata": {
      "needs_background": "light"
     },
     "output_type": "display_data"
    }
   ],
   "source": [
    "class_count=final_data_frame['class'].value_counts()\n",
    "print(class_count)\n",
    "Index = [1,2]\n",
    "plt.bar(Index,class_count)\n",
    "plt.xticks(Index,['yes','no'],rotation=45)\n",
    "plt.ylabel('Class count')\n",
    "plt.xlabel('Class label')\n",
    "plt.title('Count of Intention')"
   ]
  },
  {
   "cell_type": "code",
   "execution_count": 4,
   "metadata": {},
   "outputs": [
    {
     "name": "stdout",
     "output_type": "stream",
     "text": [
      "top 25 words in the data\n",
      "iphone    1078\n",
      "x          995\n",
      "the        849\n",
      "i          803\n",
      "to         503\n",
      "buy        298\n",
      "get        294\n",
      "a          290\n",
      "and        279\n",
      "my         278\n",
      "is         227\n",
      "an         212\n",
      "it         192\n",
      "for        192\n",
      "like       168\n",
      "want       164\n",
      "you        150\n",
      "but        145\n",
      "so         143\n",
      "this       142\n",
      "in         139\n",
      "of         133\n",
      "me         132\n",
      "that       132\n",
      ".          123\n",
      "dtype: int64\n"
     ]
    }
   ],
   "source": [
    "frequent_words =  pd.Series(' '.join(final_data_frame['text']).lower().split()).value_counts()[:25]\n",
    "print('top 25 words in the data')\n",
    "print(frequent_words)"
   ]
  },
  {
   "cell_type": "code",
   "execution_count": 2,
   "metadata": {},
   "outputs": [
    {
     "data": {
      "text/plain": [
       "'from wordcloud import WordCloud,STOPWORDS\\n\\nnegative_reviews = final_data_frame[final_data_frame[\\'class\\'].isin([\\'no\\'])]\\npositive_reviews = final_data_frame[final_data_frame[\\'class\\'].isin([\\'yes\\'])]\\n\\nnegative_reviews_str = negative_reviews.text.str.cat()\\npositive_reviews_str = positive_reviews.text.str.cat()\\n\\nwordcloud_negative = WordCloud(background_color=\\'white\\').generate(negative_reviews_str)\\nwordcloud_positive = WordCloud(background_color=\\'white\\').generate(positive_reviews_str)\\n\\nfig = plt.figure(figsize=(10,10))\\n\\nax1 = fig.add_subplot(211)\\nax1.imshow(wordcloud_negative,interpolation=\\'bilinear\\')\\nax1.axis(\"off\")\\nax1.set_title(\\'Reviews with Negative Scores\\',fontsize=20)\\n\\nax2 = fig.add_subplot(212)\\nax2.imshow(wordcloud_positive,interpolation=\\'bilinear\\')\\nax2.axis(\"off\")\\nax2.set_title(\\'Reviews with Positive Scores\\',fontsize=20)\\n\\nplt.show()'"
      ]
     },
     "execution_count": 2,
     "metadata": {},
     "output_type": "execute_result"
    }
   ],
   "source": [
    "from wordcloud import WordCloud,STOPWORDS\n",
    "\n",
    "negative_reviews = final_data_frame[final_data_frame['class'].isin(['no'])]\n",
    "positive_reviews = final_data_frame[final_data_frame['class'].isin(['yes'])]\n",
    "\n",
    "negative_reviews_str = negative_reviews.text.str.cat()\n",
    "positive_reviews_str = positive_reviews.text.str.cat()\n",
    "\n",
    "wordcloud_negative = WordCloud(background_color='white').generate(negative_reviews_str)\n",
    "wordcloud_positive = WordCloud(background_color='white').generate(positive_reviews_str)\n",
    "\n",
    "fig = plt.figure(figsize=(10,10))\n",
    "\n",
    "ax1 = fig.add_subplot(211)\n",
    "ax1.imshow(wordcloud_negative,interpolation='bilinear')\n",
    "ax1.axis(\"off\")\n",
    "ax1.set_title('Reviews with Negative Scores',fontsize=20)\n",
    "\n",
    "ax2 = fig.add_subplot(212)\n",
    "ax2.imshow(wordcloud_positive,interpolation='bilinear')\n",
    "ax2.axis(\"off\")\n",
    "ax2.set_title('Reviews with Positive Scores',fontsize=20)\n"
   ]
  },
  {
   "cell_type": "code",
   "execution_count": null,
   "metadata": {},
   "outputs": [],
   "source": []
  }
 ],
 "metadata": {
  "kernelspec": {
   "display_name": "Python 3",
   "language": "python",
   "name": "python3"
  },
  "language_info": {
   "codemirror_mode": {
    "name": "ipython",
    "version": 3
   },
   "file_extension": ".py",
   "mimetype": "text/x-python",
   "name": "python",
   "nbconvert_exporter": "python",
   "pygments_lexer": "ipython3",
   "version": "3.7.3"
  }
 },
 "nbformat": 4,
 "nbformat_minor": 2
}
